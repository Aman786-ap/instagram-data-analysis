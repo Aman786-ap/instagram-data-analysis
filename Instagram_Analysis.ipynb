{
 "cells": [
  {
   "cell_type": "markdown",
   "id": "2b77c921",
   "metadata": {},
   "source": [
    "# Instagram Data Analysis 📊\n",
    "\n",
    "This project analyzes Instagram social media data from Kaggle.  \n",
    "The goal is to explore:\n",
    "\n",
    "- User engagement (likes, comments, followers)\n",
    "- Hashtag popularity\n",
    "- Posting trends over time\n",
    "- Correlation between followers and engagement\n",
    "\n",
    "**Tools used**: Python, Pandas, Matplotlib\n"
   ]
  },
  {
   "cell_type": "code",
   "execution_count": 4,
   "id": "ba2af331",
   "metadata": {},
   "outputs": [
    {
     "name": "stdout",
     "output_type": "stream",
     "text": [
      "Working directory: d:\\360ExtremeBrowserDownload\\instagram-analysis\n",
      "Files in folder: ['comments.csv', 'follows.csv', 'Instagram_Analysis.ipynb', 'likes.csv', 'photos.csv', 'photo_tags.csv', 'tags.csv', 'users.csv']\n"
     ]
    }
   ],
   "source": [
    "# Import libraries\n",
    "import pandas as pd\n",
    "import numpy as np\n",
    "import matplotlib.pyplot as plt\n",
    "import zipfile, os\n",
    "\n",
    "# Check current folder\n",
    "print(\"Working directory:\", os.getcwd())\n",
    "print(\"Files in folder:\", os.listdir())\n"
   ]
  },
  {
   "cell_type": "code",
   "execution_count": 8,
   "id": "586b056c",
   "metadata": {},
   "outputs": [
    {
     "data": {
      "text/html": [
       "<div>\n",
       "<style scoped>\n",
       "    .dataframe tbody tr th:only-of-type {\n",
       "        vertical-align: middle;\n",
       "    }\n",
       "\n",
       "    .dataframe tbody tr th {\n",
       "        vertical-align: top;\n",
       "    }\n",
       "\n",
       "    .dataframe thead th {\n",
       "        text-align: right;\n",
       "    }\n",
       "</style>\n",
       "<table border=\"1\" class=\"dataframe\">\n",
       "  <thead>\n",
       "    <tr style=\"text-align: right;\">\n",
       "      <th></th>\n",
       "      <th>id</th>\n",
       "      <th>name</th>\n",
       "      <th>created time</th>\n",
       "      <th>private/public</th>\n",
       "      <th>post count</th>\n",
       "      <th>Verified status</th>\n",
       "    </tr>\n",
       "  </thead>\n",
       "  <tbody>\n",
       "    <tr>\n",
       "      <th>0</th>\n",
       "      <td>1</td>\n",
       "      <td>Kenton_Kirlin</td>\n",
       "      <td>16-02-2017 18:22</td>\n",
       "      <td>yes</td>\n",
       "      <td>11</td>\n",
       "      <td>no</td>\n",
       "    </tr>\n",
       "    <tr>\n",
       "      <th>1</th>\n",
       "      <td>2</td>\n",
       "      <td>Andre_Purdy85</td>\n",
       "      <td>02-04-2017 17:11</td>\n",
       "      <td>no</td>\n",
       "      <td>7</td>\n",
       "      <td>no</td>\n",
       "    </tr>\n",
       "    <tr>\n",
       "      <th>2</th>\n",
       "      <td>3</td>\n",
       "      <td>Harley_Lind18</td>\n",
       "      <td>21-02-2017 11:12</td>\n",
       "      <td>no</td>\n",
       "      <td>2</td>\n",
       "      <td>no</td>\n",
       "    </tr>\n",
       "    <tr>\n",
       "      <th>3</th>\n",
       "      <td>4</td>\n",
       "      <td>Arely_Bogan63</td>\n",
       "      <td>13-08-2016 01:28</td>\n",
       "      <td>yes</td>\n",
       "      <td>1</td>\n",
       "      <td>no</td>\n",
       "    </tr>\n",
       "    <tr>\n",
       "      <th>4</th>\n",
       "      <td>5</td>\n",
       "      <td>Aniya_Hackett</td>\n",
       "      <td>07-12-2016 01:04</td>\n",
       "      <td>yes</td>\n",
       "      <td>3</td>\n",
       "      <td>no</td>\n",
       "    </tr>\n",
       "  </tbody>\n",
       "</table>\n",
       "</div>"
      ],
      "text/plain": [
       "   id           name      created time private/public  post count  \\\n",
       "0   1  Kenton_Kirlin  16-02-2017 18:22            yes          11   \n",
       "1   2  Andre_Purdy85  02-04-2017 17:11             no           7   \n",
       "2   3  Harley_Lind18  21-02-2017 11:12             no           2   \n",
       "3   4  Arely_Bogan63  13-08-2016 01:28            yes           1   \n",
       "4   5  Aniya_Hackett  07-12-2016 01:04            yes           3   \n",
       "\n",
       "  Verified status  \n",
       "0              no  \n",
       "1              no  \n",
       "2              no  \n",
       "3              no  \n",
       "4              no  "
      ]
     },
     "execution_count": 8,
     "metadata": {},
     "output_type": "execute_result"
    }
   ],
   "source": [
    "import pandas as pd\n",
    "\n",
    "# Load CSVs directly\n",
    "users = pd.read_csv(\"users.csv\")\n",
    "photos = pd.read_csv(\"photos.csv\")\n",
    "likes = pd.read_csv(\"likes.csv\")\n",
    "comments = pd.read_csv(\"comments.csv\")\n",
    "follows = pd.read_csv(\"follows.csv\")\n",
    "photo_tags = pd.read_csv(\"photo_tags.csv\")\n",
    "tags = pd.read_csv(\"tags.csv\")\n",
    "\n",
    "users.head()\n",
    "\n"
   ]
  },
  {
   "cell_type": "markdown",
   "id": "0c96c628",
   "metadata": {},
   "source": [
    "## Dataset Overview\n",
    "\n",
    "The dataset consists of:\n",
    "- `users.csv`: user information  \n",
    "- `photos.csv`: photos posted by users  \n",
    "- `likes.csv`: photo likes  \n",
    "- `comments.csv`: photo comments  \n",
    "- `follows.csv`: who follows whom  \n",
    "- `photo_tags.csv`: tags assigned to photos  \n",
    "- `tags.csv`: hashtag dictionary\n"
   ]
  },
  {
   "cell_type": "code",
   "execution_count": 15,
   "id": "62339ca1",
   "metadata": {},
   "outputs": [],
   "source": [
    "# Strip whitespace from column names\n",
    "follows.columns = follows.columns.str.strip()\n",
    "photos.columns = photos.columns.str.strip()\n",
    "users.columns = users.columns.str.strip()\n",
    "\n",
    "# Ensure IDs are numeric\n",
    "photos['id'] = pd.to_numeric(photos['id'], errors='coerce')\n",
    "users['id'] = pd.to_numeric(users['id'], errors='coerce')\n",
    "follows['follower'] = pd.to_numeric(follows['follower'], errors='coerce')\n",
    "follows['followee'] = pd.to_numeric(follows['followee'], errors='coerce')\n",
    "\n",
    "# Followers count per user\n",
    "followers_count = follows.groupby(\"followee\").size().reset_index(name=\"followers\")\n",
    "\n",
    "# Merge followers count with users\n",
    "users = users.merge(followers_count, left_on=\"id\", right_on=\"followee\", how=\"left\").fillna(0)\n",
    "\n",
    "# Placeholder: Likes & Comments per photo\n",
    "# likes_count = likes.groupby(\"photo_id\").size().reset_index(name=\"likes\")\n",
    "# comments_count = comments.groupby(\"photo_id\").size().reset_index(name=\"comments\")\n",
    "\n",
    "# users.head()  # Uncomment to inspect the result\n",
    "\n"
   ]
  },
  {
   "cell_type": "markdown",
   "id": "3e7e011b",
   "metadata": {},
   "source": [
    "## Engagement Rate per Photo\n",
    "\n",
    "We define **engagement rate** as:\n",
    "\n",
    "\\[\n",
    "Engagement = \\frac{Likes + Comments}{Followers}\n",
    "\\]\n"
   ]
  },
  {
   "cell_type": "code",
   "execution_count": 20,
   "id": "a31d0def",
   "metadata": {},
   "outputs": [
    {
     "data": {
      "text/html": [
       "<div>\n",
       "<style scoped>\n",
       "    .dataframe tbody tr th:only-of-type {\n",
       "        vertical-align: middle;\n",
       "    }\n",
       "\n",
       "    .dataframe tbody tr th {\n",
       "        vertical-align: top;\n",
       "    }\n",
       "\n",
       "    .dataframe thead th {\n",
       "        text-align: right;\n",
       "    }\n",
       "</style>\n",
       "<table border=\"1\" class=\"dataframe\">\n",
       "  <thead>\n",
       "    <tr style=\"text-align: right;\">\n",
       "      <th></th>\n",
       "      <th>id_x</th>\n",
       "      <th>user ID</th>\n",
       "      <th>likes</th>\n",
       "      <th>comments</th>\n",
       "      <th>followers</th>\n",
       "      <th>engagement</th>\n",
       "    </tr>\n",
       "  </thead>\n",
       "  <tbody>\n",
       "    <tr>\n",
       "      <th>0</th>\n",
       "      <td>1</td>\n",
       "      <td>1</td>\n",
       "      <td>0</td>\n",
       "      <td>0</td>\n",
       "      <td>77</td>\n",
       "      <td>0.0</td>\n",
       "    </tr>\n",
       "    <tr>\n",
       "      <th>1</th>\n",
       "      <td>2</td>\n",
       "      <td>1</td>\n",
       "      <td>0</td>\n",
       "      <td>0</td>\n",
       "      <td>77</td>\n",
       "      <td>0.0</td>\n",
       "    </tr>\n",
       "    <tr>\n",
       "      <th>2</th>\n",
       "      <td>3</td>\n",
       "      <td>1</td>\n",
       "      <td>0</td>\n",
       "      <td>0</td>\n",
       "      <td>77</td>\n",
       "      <td>0.0</td>\n",
       "    </tr>\n",
       "    <tr>\n",
       "      <th>3</th>\n",
       "      <td>4</td>\n",
       "      <td>1</td>\n",
       "      <td>0</td>\n",
       "      <td>0</td>\n",
       "      <td>77</td>\n",
       "      <td>0.0</td>\n",
       "    </tr>\n",
       "    <tr>\n",
       "      <th>4</th>\n",
       "      <td>5</td>\n",
       "      <td>1</td>\n",
       "      <td>0</td>\n",
       "      <td>0</td>\n",
       "      <td>77</td>\n",
       "      <td>0.0</td>\n",
       "    </tr>\n",
       "    <tr>\n",
       "      <th>5</th>\n",
       "      <td>6</td>\n",
       "      <td>2</td>\n",
       "      <td>0</td>\n",
       "      <td>0</td>\n",
       "      <td>76</td>\n",
       "      <td>0.0</td>\n",
       "    </tr>\n",
       "    <tr>\n",
       "      <th>6</th>\n",
       "      <td>7</td>\n",
       "      <td>2</td>\n",
       "      <td>0</td>\n",
       "      <td>0</td>\n",
       "      <td>76</td>\n",
       "      <td>0.0</td>\n",
       "    </tr>\n",
       "    <tr>\n",
       "      <th>7</th>\n",
       "      <td>8</td>\n",
       "      <td>2</td>\n",
       "      <td>0</td>\n",
       "      <td>0</td>\n",
       "      <td>76</td>\n",
       "      <td>0.0</td>\n",
       "    </tr>\n",
       "    <tr>\n",
       "      <th>8</th>\n",
       "      <td>9</td>\n",
       "      <td>2</td>\n",
       "      <td>0</td>\n",
       "      <td>0</td>\n",
       "      <td>76</td>\n",
       "      <td>0.0</td>\n",
       "    </tr>\n",
       "    <tr>\n",
       "      <th>9</th>\n",
       "      <td>10</td>\n",
       "      <td>3</td>\n",
       "      <td>0</td>\n",
       "      <td>0</td>\n",
       "      <td>76</td>\n",
       "      <td>0.0</td>\n",
       "    </tr>\n",
       "  </tbody>\n",
       "</table>\n",
       "</div>"
      ],
      "text/plain": [
       "   id_x  user ID  likes  comments  followers  engagement\n",
       "0     1        1      0         0         77         0.0\n",
       "1     2        1      0         0         77         0.0\n",
       "2     3        1      0         0         77         0.0\n",
       "3     4        1      0         0         77         0.0\n",
       "4     5        1      0         0         77         0.0\n",
       "5     6        2      0         0         76         0.0\n",
       "6     7        2      0         0         76         0.0\n",
       "7     8        2      0         0         76         0.0\n",
       "8     9        2      0         0         76         0.0\n",
       "9    10        3      0         0         76         0.0"
      ]
     },
     "execution_count": 20,
     "metadata": {},
     "output_type": "execute_result"
    }
   ],
   "source": [
    "# ------------------ CLEAN COLUMN NAMES ------------------\n",
    "photos.columns = photos.columns.str.strip()\n",
    "users.columns = users.columns.str.strip()\n",
    "follows.columns = follows.columns.str.strip()\n",
    "\n",
    "# ------------------ CONVERT IDS TO NUMERIC ------------------\n",
    "photos['id'] = pd.to_numeric(photos['id'], errors='coerce')\n",
    "photos['user ID'] = pd.to_numeric(photos['user ID'], errors='coerce')\n",
    "users['id'] = pd.to_numeric(users['id'], errors='coerce')\n",
    "follows['follower'] = pd.to_numeric(follows['follower'], errors='coerce')\n",
    "follows['followee'] = pd.to_numeric(follows['followee'], errors='coerce')\n",
    "\n",
    "# ------------------ FOLLOWERS COUNT ------------------\n",
    "followers_count = follows.groupby(\"followee\").size().reset_index(name=\"followers\")\n",
    "users = users.merge(followers_count, left_on=\"id\", right_on=\"followee\", how=\"left\").fillna(0)\n",
    "\n",
    "# ------------------ LIKES & COMMENTS PER PHOTO ------------------\n",
    "# Assuming you have likes and comments DataFrames\n",
    "# likes_count = likes.groupby(\"photo_id\").size().reset_index(name=\"likes\")\n",
    "# comments_count = comments.groupby(\"photo_id\").size().reset_index(name=\"comments\")\n",
    "\n",
    "# Merge likes & comments into photos (uncomment if you have these DataFrames)\n",
    "# photos = photos.merge(likes_count, left_on=\"id\", right_on=\"photo_id\", how=\"left\").fillna(0)\n",
    "# photos = photos.merge(comments_count, left_on=\"id\", right_on=\"photo_id\", how=\"left\").fillna(0)\n",
    "\n",
    "# For testing, if likes/comments columns don’t exist yet, add dummy values\n",
    "if 'likes' not in photos.columns:\n",
    "    photos['likes'] = 0\n",
    "if 'comments' not in photos.columns:\n",
    "    photos['comments'] = 0\n",
    "\n",
    "# ------------------ ENGAGEMENT RATE ------------------\n",
    "photos = photos.merge(users[['id','followers']], left_on=\"user ID\", right_on=\"id\", how=\"left\")\n",
    "photos['engagement'] = (photos['likes'] + photos['comments']) / (photos['followers'] + 1)\n",
    "\n",
    "# ------------------ TOP 10 PHOTOS ------------------\n",
    "top_photos = photos.sort_values(\"engagement\", ascending=False).head(10)\n",
    "top_photos[['id_x','user ID','likes','comments','followers','engagement']]\n"
   ]
  },
  {
   "cell_type": "markdown",
   "id": "2097e264",
   "metadata": {},
   "source": [
    "## Top Hashtags\n"
   ]
  },
  {
   "cell_type": "code",
   "execution_count": 24,
   "id": "f3ba9d24",
   "metadata": {},
   "outputs": [
    {
     "data": {
      "image/png": "[encoded data removed]",
      "text/plain": [
       "<Figure size 800x500 with 1 Axes>"
      ]
     },
     "metadata": {},
     "output_type": "display_data"
    }
   ],
   "source": [
    "# Clean column names\n",
    "photo_tags.columns = photo_tags.columns.str.strip()\n",
    "tags.columns = tags.columns.str.strip()\n",
    "\n",
    "# Merge photos with tags\n",
    "tagged = photo_tags.merge(tags, left_on=\"tag ID\", right_on=\"id\", how=\"left\")\n",
    "\n",
    "# Top 10 hashtags\n",
    "top_tags = tagged['tag text'].value_counts().head(10)\n",
    "\n",
    "# Plot\n",
    "import matplotlib.pyplot as plt\n",
    "\n",
    "plt.figure(figsize=(8,5))\n",
    "top_tags.plot(kind='bar', color='skyblue')\n",
    "plt.title(\"Top 10 Hashtags\")\n",
    "plt.xlabel(\"Hashtag\")\n",
    "plt.ylabel(\"Count\")\n",
    "plt.xticks(rotation=45)\n",
    "plt.show()\n",
    "\n"
   ]
  },
  {
   "cell_type": "markdown",
   "id": "d95bf591",
   "metadata": {},
   "source": [
    "## Monthly Posting Trends\n"
   ]
  },
  {
   "cell_type": "code",
   "execution_count": 31,
   "id": "1c130c56",
   "metadata": {},
   "outputs": [
    {
     "name": "stderr",
     "output_type": "stream",
     "text": [
      "C:\\Users\\ap909\\AppData\\Local\\Temp\\ipykernel_12612\\1170563245.py:6: UserWarning: Parsing dates in %d-%m-%Y %H:%M format when dayfirst=False (the default) was specified. Pass `dayfirst=True` or specify a format to silence this warning.\n",
      "  photos['created_dat'] = pd.to_datetime(photos['created_dat'], errors='coerce')\n",
      "C:\\Users\\ap909\\AppData\\Roaming\\Python\\Python313\\site-packages\\pandas\\plotting\\_matplotlib\\core.py:1567: UserWarning: Attempting to set identical low and high xlims makes transformation singular; automatically expanding.\n",
      "  ax.set_xlim(left, right)\n",
      "C:\\Users\\ap909\\AppData\\Roaming\\Python\\Python313\\site-packages\\pandas\\plotting\\_matplotlib\\core.py:1567: UserWarning: Attempting to set identical low and high xlims makes transformation singular; automatically expanding.\n",
      "  ax.set_xlim(left, right)\n"
     ]
    },
    {
     "data": {
      "image/png": "[encoded data removed]",
      "text/plain": [
       "<Figure size 800x500 with 1 Axes>"
      ]
     },
     "metadata": {},
     "output_type": "display_data"
    }
   ],
   "source": [
    "# Strip all column names and replace spaces with underscores\n",
    "photos.columns = [col.strip().replace(\" \", \"_\") for col in photos.columns]\n",
    "\n",
    "# Now 'created dat' becomes 'created_dat'\n",
    "# Convert to datetime\n",
    "photos['created_dat'] = pd.to_datetime(photos['created_dat'], errors='coerce')\n",
    "photos['month'] = photos['created_dat'].dt.to_period(\"M\")\n",
    "\n",
    "# Ensure likes and comments exist\n",
    "if 'likes' not in photos.columns:\n",
    "    photos['likes'] = 0\n",
    "if 'comments' not in photos.columns:\n",
    "    photos['comments'] = 0\n",
    "\n",
    "# Monthly average likes & comments\n",
    "monthly = photos.groupby(\"month\")[['likes','comments']].mean()\n",
    "\n",
    "# Plot\n",
    "import matplotlib.pyplot as plt\n",
    "\n",
    "monthly.plot(kind='line', figsize=(8,5))\n",
    "plt.title(\"Monthly Trends in Likes & Comments\")\n",
    "plt.xlabel(\"Month\")\n",
    "plt.ylabel(\"Average Engagement\")\n",
    "plt.show()\n",
    "\n"
   ]
  },
  {
   "cell_type": "markdown",
   "id": "5e53d6ce",
   "metadata": {},
   "source": [
    "## Top Users\n"
   ]
  },
  {
   "cell_type": "code",
   "execution_count": 33,
   "id": "462dbe6e",
   "metadata": {},
   "outputs": [
    {
     "data": {
      "image/png": "[encoded data removed]",
      "text/plain": [
       "<Figure size 800x500 with 1 Axes>"
      ]
     },
     "metadata": {},
     "output_type": "display_data"
    }
   ],
   "source": [
    "# Strip all column names and replace spaces with underscores\n",
    "users.columns = [col.strip().replace(\" \", \"_\") for col in users.columns]\n",
    "\n",
    "# Ensure followers exist\n",
    "if 'followers' not in users.columns:\n",
    "    users['followers'] = 0\n",
    "\n",
    "# Use the correct column for user names; likely 'name' or 'full_name'\n",
    "user_name_col = 'name'  # change this if your column is different\n",
    "\n",
    "# Top 10 users by followers\n",
    "top_users = users.sort_values(\"followers\", ascending=False).head(10)\n",
    "\n",
    "plt.figure(figsize=(8,5))\n",
    "plt.bar(top_users[user_name_col], top_users['followers'], color=\"orange\")\n",
    "plt.xticks(rotation=45)\n",
    "plt.title(\"Top 10 Users by Followers\")\n",
    "plt.ylabel(\"Followers\")\n",
    "plt.show()\n",
    "\n"
   ]
  },
  {
   "cell_type": "markdown",
   "id": "feb3031f",
   "metadata": {},
   "source": [
    "## Correlation: Followers vs Likes\n"
   ]
  },
  {
   "cell_type": "code",
   "execution_count": 35,
   "id": "1681f630",
   "metadata": {},
   "outputs": [
    {
     "data": {
      "image/png": "[encoded data removed]",
      "text/plain": [
       "<Figure size 600x600 with 1 Axes>"
      ]
     },
     "metadata": {},
     "output_type": "display_data"
    },
    {
     "data": {
      "text/html": [
       "<div>\n",
       "<style scoped>\n",
       "    .dataframe tbody tr th:only-of-type {\n",
       "        vertical-align: middle;\n",
       "    }\n",
       "\n",
       "    .dataframe tbody tr th {\n",
       "        vertical-align: top;\n",
       "    }\n",
       "\n",
       "    .dataframe thead th {\n",
       "        text-align: right;\n",
       "    }\n",
       "</style>\n",
       "<table border=\"1\" class=\"dataframe\">\n",
       "  <thead>\n",
       "    <tr style=\"text-align: right;\">\n",
       "      <th></th>\n",
       "      <th>followers</th>\n",
       "      <th>likes</th>\n",
       "    </tr>\n",
       "  </thead>\n",
       "  <tbody>\n",
       "    <tr>\n",
       "      <th>followers</th>\n",
       "      <td>1.0</td>\n",
       "      <td>NaN</td>\n",
       "    </tr>\n",
       "    <tr>\n",
       "      <th>likes</th>\n",
       "      <td>NaN</td>\n",
       "      <td>NaN</td>\n",
       "    </tr>\n",
       "  </tbody>\n",
       "</table>\n",
       "</div>"
      ],
      "text/plain": [
       "           followers  likes\n",
       "followers        1.0    NaN\n",
       "likes            NaN    NaN"
      ]
     },
     "execution_count": 35,
     "metadata": {},
     "output_type": "execute_result"
    }
   ],
   "source": [
    "# Aggregate average likes per user\n",
    "user_likes = photos.groupby(\"user_ID\")['likes'].mean().reset_index()\n",
    "\n",
    "# Merge with users\n",
    "user_stats = users.merge(user_likes, left_on=\"id\", right_on=\"user_ID\", how=\"left\").fillna(0)\n",
    "\n",
    "# Scatter plot: followers vs avg likes\n",
    "import matplotlib.pyplot as plt\n",
    "\n",
    "plt.figure(figsize=(6,6))\n",
    "plt.scatter(user_stats['followers'], user_stats['likes'], alpha=0.5)\n",
    "plt.xlabel(\"Followers\")\n",
    "plt.ylabel(\"Average Likes\")\n",
    "plt.title(\"Followers vs Average Likes\")\n",
    "plt.show()\n",
    "\n",
    "# Correlation\n",
    "user_stats[['followers','likes']].corr()\n",
    "\n"
   ]
  },
  {
   "cell_type": "markdown",
   "id": "23547636",
   "metadata": {},
   "source": [
    "# Conclusions ✅\n",
    "\n",
    "- The most popular hashtags are (see chart).  \n",
    "- Engagement is not strongly correlated with follower count.  \n",
    "- Some users with fewer followers achieve higher engagement rates.  \n",
    "- Monthly trends show variation in activity.  \n",
    "\n",
    "👉 Engagement depends on both **content strategy (hashtags)** and **audience quality**, not just follower count.\n"
   ]
  }
 ],
 "metadata": {
  "kernelspec": {
   "display_name": "Python 3",
   "language": "python",
   "name": "python3"
  },
  "language_info": {
   "codemirror_mode": {
    "name": "ipython",
    "version": 3
   },
   "file_extension": ".py",
   "mimetype": "text/x-python",
   "name": "python",
   "nbconvert_exporter": "python",
   "pygments_lexer": "ipython3",
   "version": "3.13.5"
  }
 },
 "nbformat": 4,
 "nbformat_minor": 5
}
